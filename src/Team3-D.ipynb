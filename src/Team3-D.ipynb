{
 "cells": [
  {
   "cell_type": "markdown",
   "metadata": {},
   "source": [
    "**Ioannis Michalainas** (AEM: 10902) and **Maria Charisi** (AEM: 10727)"
   ]
  },
  {
   "cell_type": "markdown",
   "metadata": {},
   "source": [
    "# PART D"
   ]
  },
  {
   "cell_type": "markdown",
   "metadata": {},
   "source": [
    "First, we begin by importing the necessary libriries. We use **pandas** for loading the datasets and **numpy** for saving the results of the prediction."
   ]
  },
  {
   "cell_type": "code",
   "execution_count": 10,
   "metadata": {},
   "outputs": [],
   "source": [
    "import pandas as pd\n",
    "import numpy as np"
   ]
  },
  {
   "cell_type": "markdown",
   "metadata": {},
   "source": [
    "Then, we will import some libraries from *scikit-learn*, including **MLPClassifier** (Multilayer Perceptron) for the model, **StandardScaler** for scaling the data and **cross_val_scrore** for cross-validation."
   ]
  },
  {
   "cell_type": "code",
   "execution_count": 11,
   "metadata": {},
   "outputs": [],
   "source": [
    "from sklearn.neural_network import MLPClassifier\n",
    "from sklearn.preprocessing import StandardScaler\n",
    "from sklearn.model_selection import cross_val_score"
   ]
  },
  {
   "cell_type": "markdown",
   "metadata": {},
   "source": [
    "We declare some *constants* like the directory that cotains the train and test sets."
   ]
  },
  {
   "cell_type": "code",
   "execution_count": 12,
   "metadata": {},
   "outputs": [],
   "source": [
    "NUM_FEATURES = 224\n",
    "TRAIN_DATA = '../datasets/datasetTV.csv'\n",
    "TEST_DATA = '../datasets/datasetTest.csv'"
   ]
  },
  {
   "cell_type": "markdown",
   "metadata": {},
   "source": [
    "We load and preprocess the **train** and **test** sets."
   ]
  },
  {
   "cell_type": "code",
   "execution_count": 13,
   "metadata": {},
   "outputs": [],
   "source": [
    "train = pd.read_csv(TRAIN_DATA, header=None)\n",
    "test = pd.read_csv(TEST_DATA, header=None)\n",
    "\n",
    "feature_columns = [f'feature_{i+1}' for i in range(NUM_FEATURES)]\n",
    "\n",
    "train.columns = feature_columns + ['label']\n",
    "test.columns = feature_columns\n",
    "\n",
    "X_train = train[feature_columns]\n",
    "y_train = train['label']\n",
    "\n",
    "X_test = test[feature_columns]"
   ]
  },
  {
   "cell_type": "markdown",
   "metadata": {},
   "source": [
    "As we can observe, our data lies in a high-dimensional space (224 dimensions), so we decided to use **feature selection**. Specifically, we will use a *correlation-based* technique to discard features with low correlation to the label, as these are unlikely to provide meaningful information for the classification task. Using feature selection offers the following benefits:\n",
    "- Reduce noise in the data\n",
    "- Decreases the risk of **overfitting** because the model focuses on learning the underlying patterns rather than memorizing noise\n",
    "- Improves computational efficiency"
   ]
  },
  {
   "cell_type": "code",
   "execution_count": 14,
   "metadata": {},
   "outputs": [],
   "source": [
    "correlation_matrix = X_train.corrwith(y_train)\n",
    "correlation_threshold = 0.1\n",
    "selected_features = correlation_matrix[abs(correlation_matrix) > correlation_threshold].index\n",
    "\n",
    "X_train_reduced = X_train[selected_features]\n",
    "X_test_reduced = X_test[selected_features]"
   ]
  },
  {
   "cell_type": "markdown",
   "metadata": {},
   "source": [
    "Moreover, we will **scale** the data, as this is essential for models like neural networks. Scaling improves the *convergence* of *gradient descent* and prevents features with *larger numerical ranges* from dominating the learning process."
   ]
  },
  {
   "cell_type": "code",
   "execution_count": 15,
   "metadata": {},
   "outputs": [],
   "source": [
    "scaler = StandardScaler()\n",
    "X_train_reduced_scaled = scaler.fit_transform(X_train_reduced)\n",
    "X_test_reduced_scaled = scaler.transform(X_test_reduced)"
   ]
  },
  {
   "cell_type": "markdown",
   "metadata": {},
   "source": [
    "We used Grid Search to tune the parameters of the MLPClassifier and found that the best combination for our training set is the following:"
   ]
  },
  {
   "cell_type": "code",
   "execution_count": 16,
   "metadata": {},
   "outputs": [],
   "source": [
    "model = MLPClassifier(hidden_layer_sizes = (200,), learning_rate_init = 0.01, random_state = 42)"
   ]
  },
  {
   "cell_type": "markdown",
   "metadata": {},
   "source": [
    "We evaluate the accuracy of the model using **5-fold cross-validation**."
   ]
  },
  {
   "cell_type": "code",
   "execution_count": 17,
   "metadata": {},
   "outputs": [
    {
     "name": "stdout",
     "output_type": "stream",
     "text": [
      "Neural Network - Cross-validation accuracy: 0.84\n"
     ]
    }
   ],
   "source": [
    "scores = cross_val_score(model, X_train_reduced_scaled, y_train, cv=5, scoring='accuracy')\n",
    "print(f\"Neural Network - Cross-validation accuracy: {scores.mean():.2f}\")"
   ]
  },
  {
   "cell_type": "markdown",
   "metadata": {},
   "source": [
    "Finally, we will fit our model on the entire training set and make predictions for the given test set."
   ]
  },
  {
   "cell_type": "code",
   "execution_count": 18,
   "metadata": {},
   "outputs": [],
   "source": [
    "model.fit(X_train_reduced_scaled, y_train)\n",
    "labelsX = model.predict(X_test_reduced_scaled)\n",
    "\n",
    "np.save('../results/labelsX.npy', labelsX)"
   ]
  }
 ],
 "metadata": {
  "kernelspec": {
   "display_name": "Python 3",
   "language": "python",
   "name": "python3"
  },
  "language_info": {
   "codemirror_mode": {
    "name": "ipython",
    "version": 3
   },
   "file_extension": ".py",
   "mimetype": "text/x-python",
   "name": "python",
   "nbconvert_exporter": "python",
   "pygments_lexer": "ipython3",
   "version": "3.13.0"
  }
 },
 "nbformat": 4,
 "nbformat_minor": 2
}
