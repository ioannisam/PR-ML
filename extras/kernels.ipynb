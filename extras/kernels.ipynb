{
 "cells": [
  {
   "cell_type": "code",
   "execution_count": 1,
   "id": "f1f29ab0-0b76-49ce-95c4-0fe92eaec3c5",
   "metadata": {},
   "outputs": [],
   "source": [
    "import pandas as pd\n",
    "from sklearn.decomposition import KernelPCA\n",
    "from sklearn.metrics import silhouette_score\n",
    "from sklearn.preprocessing import StandardScaler"
   ]
  },
  {
   "cell_type": "markdown",
   "id": "d0e0c1e3",
   "metadata": {},
   "source": [
    "Load and pre-process the dataset."
   ]
  },
  {
   "cell_type": "code",
   "execution_count": 2,
   "id": "f1497533",
   "metadata": {},
   "outputs": [],
   "source": [
    "NUM_FEATURES = 224\n",
    "TRAIN_DATA = '../datasets/datasetTV.csv'\n",
    "\n",
    "train = pd.read_csv(TRAIN_DATA, header=None)\n",
    "\n",
    "feature_columns = [f'feature_{i+1}' for i in range(NUM_FEATURES)]\n",
    "train.columns = feature_columns + ['label']\n",
    "\n",
    "X_train = train[feature_columns]\n",
    "y_train = train['label']\n",
    "\n",
    "scaler = StandardScaler()\n",
    "X_train_scaled = scaler.fit_transform(X_train)"
   ]
  },
  {
   "cell_type": "markdown",
   "id": "6fe13d83",
   "metadata": {},
   "source": [
    "Kernels are functions that transform input data into a higher-dimensional space where linear separability might be achieved. We will test different kernels, such as RBF (Gaussian kernel), polynomial, sigmoid, and cosine, to evaluate whether our data is linearly separable. For each kernel, we will test various $\\gamma$ values, $\\gamma$ is a parameter that controls the influence of individual data points."
   ]
  },
  {
   "cell_type": "code",
   "execution_count": 3,
   "id": "3c12fd9b",
   "metadata": {},
   "outputs": [],
   "source": [
    "kernels = ['rbf', 'poly', 'sigmoid', 'cosine']\n",
    "gamma_values = [0.001, 0.01, 0.1, 1, 10]"
   ]
  },
  {
   "cell_type": "markdown",
   "id": "794b46ac",
   "metadata": {},
   "source": [
    "In order to check whether the transformed data from the kernel is linearly separable, we will use the **silhouette score** as a metric. \n",
    "The silhouette score quantifies how well a data point fits into its class and ranges from -1 to 1:\n",
    "- 1: Perfectly matched to its class (linearly separable classes).\n",
    "- 0: On the boundary between classes.\n",
    "- -1: Misclassified, closer to another class (non-linearly separable classes)."
   ]
  },
  {
   "cell_type": "code",
   "execution_count": 4,
   "id": "7c18d8fb",
   "metadata": {},
   "outputs": [
    {
     "name": "stdout",
     "output_type": "stream",
     "text": [
      "Original Dataset: Silhouette Score: 0.01\n",
      "\n",
      "Testing Kernel: rbf\n",
      "Kernel: rbf, Gamma: 0.001, Silhouette Score: 0.03\n",
      "Kernel: rbf, Gamma: 0.01, Silhouette Score: 0.03\n",
      "Kernel: rbf, Gamma: 0.1, Silhouette Score: -0.37\n",
      "Kernel: rbf, Gamma: 1, Silhouette Score: -0.03\n",
      "Kernel: rbf, Gamma: 10, Silhouette Score: -0.03\n",
      "\n",
      "Testing Kernel: poly\n",
      "Kernel: poly, Gamma: 0.001, Silhouette Score: 0.03\n",
      "Kernel: poly, Gamma: 0.01, Silhouette Score: -0.00\n",
      "Kernel: poly, Gamma: 0.1, Silhouette Score: -0.07\n",
      "Kernel: poly, Gamma: 1, Silhouette Score: -0.09\n",
      "Kernel: poly, Gamma: 10, Silhouette Score: -0.09\n",
      "\n",
      "Testing Kernel: sigmoid\n",
      "Kernel: sigmoid, Gamma: 0.001, Silhouette Score: 0.03\n",
      "Kernel: sigmoid, Gamma: 0.01, Silhouette Score: 0.03\n",
      "Kernel: sigmoid, Gamma: 0.1, Silhouette Score: 0.03\n",
      "Kernel: sigmoid, Gamma: 1, Silhouette Score: 0.03\n",
      "Kernel: sigmoid, Gamma: 10, Silhouette Score: 0.04\n",
      "\n",
      "Testing Kernel: cosine\n",
      "Kernel: cosine, Gamma: 0.001, Silhouette Score: 0.04\n",
      "Kernel: cosine, Gamma: 0.01, Silhouette Score: 0.04\n",
      "Kernel: cosine, Gamma: 0.1, Silhouette Score: 0.04\n",
      "Kernel: cosine, Gamma: 1, Silhouette Score: 0.04\n",
      "Kernel: cosine, Gamma: 10, Silhouette Score: 0.04\n"
     ]
    }
   ],
   "source": [
    "score = silhouette_score(X_train_scaled, y_train)\n",
    "print(f\"Original Dataset: Silhouette Score: {score:.2f}\")\n",
    "\n",
    "for kernel in kernels:\n",
    "    print(f\"\\nTesting Kernel: {kernel}\")\n",
    "    for gamma in gamma_values:\n",
    "        try:\n",
    "            kpca = KernelPCA(n_components=50, kernel=kernel, gamma=gamma, random_state=42)\n",
    "            X_kpca = kpca.fit_transform(X_train_scaled)\n",
    "            \n",
    "            # Calculate silhouette score\n",
    "            score = silhouette_score(X_kpca, y_train)\n",
    "            print(f\"Kernel: {kernel}, Gamma: {gamma}, Silhouette Score: {score:.2f}\")\n",
    "            \n",
    "        except Exception as e:\n",
    "            print(f\"Kernel: {kernel}, Gamma: {gamma} - Failed with error: {e}\")"
   ]
  },
  {
   "cell_type": "markdown",
   "id": "06470ecf",
   "metadata": {},
   "source": [
    "As we can see from the results above, the silhouette scores of both the original and transformed data range from -0.37 to 0.04. This indicates that our data is not linearly separable."
   ]
  }
 ],
 "metadata": {
  "kernelspec": {
   "display_name": "Python 3 (ipykernel)",
   "language": "python",
   "name": "python3"
  },
  "language_info": {
   "codemirror_mode": {
    "name": "ipython",
    "version": 3
   },
   "file_extension": ".py",
   "mimetype": "text/x-python",
   "name": "python",
   "nbconvert_exporter": "python",
   "pygments_lexer": "ipython3",
   "version": "3.12.7"
  }
 },
 "nbformat": 4,
 "nbformat_minor": 5
}
